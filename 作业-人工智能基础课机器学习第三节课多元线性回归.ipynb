{
 "cells": [
  {
   "cell_type": "markdown",
   "metadata": {},
   "source": [
    "![](https://img.kaikeba.com/web/kkb_index/img_index_logo.png)"
   ]
  },
  {
   "cell_type": "markdown",
   "metadata": {},
   "source": [
    "# 人工智能基础课机器学习 第三节课作业 线性回归\n",
    "\n",
    "同学们大家好，本次作业是考察学生对线性回归的理解与SKLearn的使用，以及pandas的使用。\n",
    "\n",
    "本次作业的数据集：data.csv\n",
    "这份数据代表了一个循环发电厂，每个数据有5列，分别是:AT（温度）, V（压力）, AP（湿度）, RH（压强）, PE（输出电力)\n",
    "\n",
    "问题是得到一个线性的关系，对应PE是样本输出，而AT/V/AP/RH这4个是样本特征， 机器学习的目的就是得到一个线性回归模型，即: PE=W0+W1∗AT+W2∗V+W3∗AP+W4∗RH 而需要学习的，就是W0,W1,W2,W3,W4这5个参数。\n"
   ]
  },
  {
   "cell_type": "code",
   "execution_count": 19,
   "metadata": {},
   "outputs": [],
   "source": [
    "import numpy as np\n",
    "import pandas as pd\n",
    "import matplotlib.pyplot as plt\n",
    "from sklearn.model_selection import train_test_split\n",
    "from sklearn.linear_model import LinearRegression"
   ]
  },
  {
   "cell_type": "markdown",
   "metadata": {},
   "source": [
    "# 第一步：读取样本数据，并将数据集分为训练集和测试集\n",
    "\n",
    "\n"
   ]
  },
  {
   "cell_type": "code",
   "execution_count": 31,
   "metadata": {},
   "outputs": [
    {
     "name": "stdout",
     "output_type": "stream",
     "text": [
      "          PE\n",
      "4044  435.38\n",
      "7068  459.43\n",
      "5846  470.92\n",
      "1975  470.80\n",
      "4701  452.85\n",
      "...      ...\n",
      "3549  427.98\n",
      "8807  483.74\n",
      "3024  441.13\n",
      "5696  467.19\n",
      "1963  436.56\n",
      "\n",
      "[2871 rows x 1 columns]\n"
     ]
    }
   ],
   "source": [
    "data = pd.read_csv('data(1).csv')\n",
    "# data.head()\n",
    "x = data.iloc[:,[0,1,2,3]]\n",
    "y = data.iloc[:,[4]]\n",
    "# print(x)\n",
    "x_train,x_test,y_train,y_test = train_test_split(x,y,test_size=0.3,random_state=12345)\n",
    "print(y_test)"
   ]
  },
  {
   "cell_type": "markdown",
   "metadata": {},
   "source": [
    "#  第二步：训练Linear Regreesion模型，得到训练参数\n",
    "\n"
   ]
  },
  {
   "cell_type": "code",
   "execution_count": 29,
   "metadata": {},
   "outputs": [
    {
     "name": "stdout",
     "output_type": "stream",
     "text": [
      "0.9285536761442575\n"
     ]
    }
   ],
   "source": [
    "lr = LinearRegression()\n",
    "lr.fit(x_train,y_train)\n",
    "score_test = lr.score(x_test,y_test)\n",
    "print(score_test)"
   ]
  },
  {
   "cell_type": "markdown",
   "metadata": {},
   "source": [
    "# 第三步：使用均方误差和均方根误差在测试集上的表现来评价模型的好坏。\n",
    "\n"
   ]
  },
  {
   "cell_type": "code",
   "execution_count": 43,
   "metadata": {},
   "outputs": [
    {
     "name": "stdout",
     "output_type": "stream",
     "text": [
      "mse: PE    20.579659\n",
      "dtype: float64  \n",
      "rmse: PE    4.536481\n",
      "dtype: float64\n"
     ]
    }
   ],
   "source": [
    "m = np.shape(y_test)[0]\n",
    "y_pred = lr.predict(x_test)\n",
    "# 均方误差\n",
    "mse = ((y_test - y_pred)**2).sum()/m\n",
    "# 均方根误差\n",
    "rmse = np.sqrt(mse)\n",
    "print('mse:',str(mse),' \\nrmse:',str(rmse))"
   ]
  },
  {
   "cell_type": "markdown",
   "metadata": {},
   "source": [
    "# 第四步：可视化的方式直观的表示模型学习效果的好坏\n",
    "\n"
   ]
  },
  {
   "cell_type": "code",
   "execution_count": 63,
   "metadata": {},
   "outputs": [
    {
     "data": {
      "image/png": "[encoded data removed]",
      "text/plain": [
       "<Figure size 432x288 with 1 Axes>"
      ]
     },
     "metadata": {
      "needs_background": "light"
     },
     "output_type": "display_data"
    }
   ],
   "source": [
    "plt.scatter(y_test,y_pred)\n",
    "plt.plot(y_test,y_test,color='black')\n",
    "plt.show()"
   ]
  }
 ],
 "metadata": {
  "kernelspec": {
   "display_name": "Python 3",
   "language": "python",
   "name": "python3"
  },
  "language_info": {
   "codemirror_mode": {
    "name": "ipython",
    "version": 3
   },
   "file_extension": ".py",
   "mimetype": "text/x-python",
   "name": "python",
   "nbconvert_exporter": "python",
   "pygments_lexer": "ipython3",
   "version": "3.7.4"
  }
 },
 "nbformat": 4,
 "nbformat_minor": 4
}
